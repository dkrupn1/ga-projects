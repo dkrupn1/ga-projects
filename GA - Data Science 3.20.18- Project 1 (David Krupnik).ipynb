{
 "cells": [
  {
   "cell_type": "code",
   "execution_count": 2,
   "metadata": {},
   "outputs": [],
   "source": [
    "import pandas as pd\n",
    "import matplotlib.pyplot as plt\n",
    "import seaborn as sns\n",
    "import numpy as np"
   ]
  },
  {
   "cell_type": "code",
   "execution_count": 3,
   "metadata": {},
   "outputs": [],
   "source": [
    "adm = pd.read_csv('/Users/dkrupnik/Documents/ga-datascience/projects/unit-projects/project-1/assets/admissions.csv')"
   ]
  },
  {
   "cell_type": "code",
   "execution_count": 4,
   "metadata": {},
   "outputs": [],
   "source": [
    "tips = sns.load_dataset('tips')"
   ]
  },
  {
   "cell_type": "markdown",
   "metadata": {},
   "source": [
    "# Project 1 (Admissions Dataset) - David Krupnik"
   ]
  },
  {
   "cell_type": "markdown",
   "metadata": {},
   "source": [
    "### First, please referece the data dictionary below:\n",
    "\n",
    "Variable | Description | Type of Variable\n",
    ":-| :---| :---\n",
    "Admit |Was the applicant admitted (1) or not admitted (0) to the university  | categorical\n",
    "GRE | The applicant's GRE score | categorical\n",
    "GPA | The applicant's GPA from their previous university | categorical \n",
    "Prestige | The applicant's undergraduate class rank, with 1 being the highest and 4 as the lowest | continuous\n"
   ]
  },
  {
   "cell_type": "markdown",
   "metadata": {},
   "source": [
    "**1. What is the outcome?**\n",
    "\n",
    "Answer: Admitted Students (1), Not Admitted Students (0)"
   ]
  },
  {
   "cell_type": "markdown",
   "metadata": {},
   "source": [
    "**2. What are the predictors/covariates?**\n",
    "\n",
    "Answer: GRE Scores, GPAs and Class Rankings (Prestige)\n"
   ]
  },
  {
   "cell_type": "markdown",
   "metadata": {},
   "source": [
    "**3. What timeframe is the data relevant for?**\n",
    "\n",
    "Answer: The dataset is cross-sectional and does not specify a time period"
   ]
  },
  {
   "cell_type": "markdown",
   "metadata": {},
   "source": [
    "**4. What is the hypothesis?**\n",
    "\n",
    "Answer: Applicants with higher GPAs and Class Rankings were more still more likely to be accepted in to UCLA despite having an average GRE score."
   ]
  },
  {
   "cell_type": "markdown",
   "metadata": {},
   "source": [
    "## Read and Evaluate the following problem statement:\n",
    "\n",
    "*Using the cross-sectional dataset from UCLA's Logit Regression in R , determine which variable (GRE scores, GPA and Prestige) will have the lowest effect on acceptance in to UCLA than the others.*"
   ]
  },
  {
   "cell_type": "markdown",
   "metadata": {},
   "source": [
    "**1. What are the goals of the exploratory analysis?**\n",
    "\n",
    "Answer: The goal of the exploratory analysis is to determine the following:\n",
    "    1. Specific to the posed question, \n",
    "    2. Numerically measurable\n",
    "    3. Action-oriented\n",
    "    4. Reprodubicle by another person researching the topic at hand\n",
    "    5. Specific to a single point in time (in the case of this dataset)\n",
    "    "
   ]
  },
  {
   "cell_type": "markdown",
   "metadata": {},
   "source": [
    "**2a. What are the assumptions of the distribution of data?**\n",
    "\n",
    "Answer: The assumption of the data here is that the GRE, GPA and class rankings are normally distributed. "
   ]
  },
  {
   "cell_type": "markdown",
   "metadata": {},
   "source": [
    "**2b. How will you determine the distribution of the data?**\n",
    "\n",
    "Answer: The distribution of the data can be determined using pandas to determine the skew and kurtosis of each of the variables"
   ]
  },
  {
   "cell_type": "markdown",
   "metadata": {},
   "source": [
    "**3a. How might outliers impact your analysis?**\n",
    "\n",
    "Answer: Outliers may impact this analysis by skewing average scores for all students. There is a risk of this due to applicants who scored 800 on the GRE."
   ]
  },
  {
   "cell_type": "markdown",
   "metadata": {},
   "source": [
    "**3b. How will you test for outliers??**\n",
    "\n",
    "Answer: Outliers can be tested for using boxplots through Seaborn"
   ]
  },
  {
   "cell_type": "markdown",
   "metadata": {},
   "source": [
    "**4a. What is colinearity?**\n",
    "\n",
    "Answer: For two variables to have a collinear relationship suggests that one variable is able to predict another. In this dataset, it can be safely assumed that an applicants GPA has a collinear relationship with their class ranking."
   ]
  },
  {
   "cell_type": "markdown",
   "metadata": {},
   "source": [
    "**4b. How will your test for colinearity?**\n",
    "\n",
    "Answer: We can test for collinearity by using a linear regression model (as found in Seaborn) or testing for correlation (as found in Pandas)."
   ]
  },
  {
   "cell_type": "markdown",
   "metadata": {},
   "source": [
    "**5. What is your exploratory analysis plan?**\n",
    "\n",
    "Answer: In approaching the exploratory analysis of the problem statement, I plan to execute the following steps:\n",
    "\n",
    "1. Import all necessary dictionaries (Pandas, Seaborn, Numpy)\n",
    "2. Check for that the data is normally distributed \n",
    "3. Determine the median GRE and GPA scores\n",
    "3. Write a function grouping applicants with a GRE above 580 (median) as group 'a'\n",
    "4. Write a function grouping applicants with a GPA above 3.3 (median) as group 'b'\n",
    "5. Write a function grouping applicants with a Prestige above 3.3 (median) as group 'c'\n",
    "6. Compare percentage of applicants admitted from group 'a' to percentage of total applicants\n",
    "7. Compare percentage of applicants admitted from group 'b' to percentage of total applicants\n",
    "8. Compare percentage of applicants admitted from group 'c' to percentage of total applicants\n",
    "9. Multiply each result to index versus 100 to determine which variable has the lowest effect on admission to UCLA\n",
    "\n",
    "    "
   ]
  }
 ],
 "metadata": {
  "kernelspec": {
   "display_name": "Python 3",
   "language": "python",
   "name": "python3"
  },
  "language_info": {
   "codemirror_mode": {
    "name": "ipython",
    "version": 3
   },
   "file_extension": ".py",
   "mimetype": "text/x-python",
   "name": "python",
   "nbconvert_exporter": "python",
   "pygments_lexer": "ipython3",
   "version": "3.6.3"
  }
 },
 "nbformat": 4,
 "nbformat_minor": 2
}
